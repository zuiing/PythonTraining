{
 "cells": [
  {
   "cell_type": "markdown",
   "metadata": {},
   "source": [
    "# 函数关键字"
   ]
  },
  {
   "cell_type": "markdown",
   "metadata": {},
   "source": [
    "1、def(用于定义函数或方法) return(用于返回值) \n",
    "2、pass(空语句，不做任何事情，一般用作占位语句) "
   ]
  },
  {
   "cell_type": "code",
   "execution_count": 3,
   "metadata": {},
   "outputs": [
    {
     "name": "stdout",
     "output_type": "stream",
     "text": [
      "当前字母： p\n",
      "当前字母： y\n",
      "当前字母： t\n",
      "当前字母： h\n",
      "这是pass块，就是给个提示，后续可以再此添加功能\n",
      "当前字母： o\n",
      "当前字母： n\n",
      "-------------end-----------\n"
     ]
    }
   ],
   "source": [
    "def no_ideaA():\n",
    "    pass\n",
    "# 示例 空语句\n",
    "for letter in 'python':\n",
    "    if letter=='o':\n",
    "        pass\n",
    "        print('这是pass块，就是给个提示，后续可以再此添加功能')\n",
    "    print('当前字母：',letter)\n",
    "print('-------------end-----------')"
   ]
  },
  {
   "cell_type": "markdown",
   "metadata": {},
   "source": [
    "3、yield(意思是生产，返回一个生成器对象，每个生成器只能使用一次)\n",
    "一个带有yield的函数就是一个generation，生成一个generator看起来像函数调用，但不会执行任何函数代码，\n",
    "直到对其调用.next()函数；虽然执行流程仍按函数的流程执行，但每次执行到一个yield语句就会中断，\n",
    "并返回一个迭代值，下次执行时从yield的下一句就像执行"
   ]
  },
  {
   "cell_type": "code",
   "execution_count": 44,
   "metadata": {},
   "outputs": [
    {
     "name": "stdout",
     "output_type": "stream",
     "text": [
      "True\n",
      "开始调用func函数：\n",
      "对其调用next函数：\n",
      "so hungry\n",
      "still hungry\n"
     ]
    },
    {
     "ename": "StopIteration",
     "evalue": "",
     "output_type": "error",
     "traceback": [
      "\u001b[1;31m---------------------------------------------------------------------------\u001b[0m",
      "\u001b[1;31mStopIteration\u001b[0m                             Traceback (most recent call last)",
      "\u001b[1;32m<ipython-input-44-11856ddc17bf>\u001b[0m in \u001b[0;36m<module>\u001b[1;34m\u001b[0m\n\u001b[0;32m      9\u001b[0m \u001b[0mprint\u001b[0m\u001b[1;33m(\u001b[0m\u001b[1;34m\"对其调用next函数：\"\u001b[0m\u001b[1;33m)\u001b[0m\u001b[1;33m\u001b[0m\u001b[0m\n\u001b[0;32m     10\u001b[0m \u001b[0mg\u001b[0m\u001b[1;33m.\u001b[0m\u001b[0m__next__\u001b[0m\u001b[1;33m(\u001b[0m\u001b[1;33m)\u001b[0m\u001b[1;33m\u001b[0m\u001b[0m\n\u001b[1;32m---> 11\u001b[1;33m \u001b[0mg\u001b[0m\u001b[1;33m.\u001b[0m\u001b[0m__next__\u001b[0m\u001b[1;33m(\u001b[0m\u001b[1;33m)\u001b[0m\u001b[1;33m\u001b[0m\u001b[0m\n\u001b[0m",
      "\u001b[1;31mStopIteration\u001b[0m: "
     ]
    }
   ],
   "source": [
    "def func():\n",
    "    print(\"so hungry\")\n",
    "    yield 5\n",
    "    print(\"still hungry\")\n",
    "from inspect import isgeneratorfunction\n",
    "print(isgeneratorfunction(func)) #判断是否是一个特殊的generator函数\n",
    "print(\"开始调用func函数：\")\n",
    "g=func()\n",
    "print(\"对其调用next函数：\")\n",
    "g.__next__()\n",
    "g.__next__()"
   ]
  },
  {
   "cell_type": "markdown",
   "metadata": {},
   "source": [
    "4、lambda只是一个表达式，定义了一个匿名函数，起到函数速写的作用"
   ]
  },
  {
   "cell_type": "code",
   "execution_count": 1,
   "metadata": {},
   "outputs": [
    {
     "name": "stdout",
     "output_type": "stream",
     "text": [
      "30\n"
     ]
    }
   ],
   "source": [
    "#lambda函数的语法只包含一个语句，如下：\n",
    "# lambda[arg1[,arg2,...argn]]:expression\n",
    "sum=lambda arg1,arg2:arg1+arg2;\n",
    "print(sum(10,20))"
   ]
  },
  {
   "cell_type": "markdown",
   "metadata": {},
   "source": [
    "# 定义函数"
   ]
  },
  {
   "cell_type": "code",
   "execution_count": null,
   "metadata": {},
   "outputs": [],
   "source": [
    "1、定义函数要使用def语句，一次写出函数名 括号 参数和冒号，然后在缩进块中编写函数体，函数的返回值应用return语句返回\n",
    "如果已经把my_abs()的函数定义保存为myfunc.py文件，那么就可以用from myfunc import my_abs来导入该函数"
   ]
  },
  {
   "cell_type": "code",
   "execution_count": 47,
   "metadata": {},
   "outputs": [
    {
     "name": "stdout",
     "output_type": "stream",
     "text": [
      "100\n"
     ]
    }
   ],
   "source": [
    "# 绝对值函数\n",
    "def my_abs(x):\n",
    "    if x>=0:\n",
    "        return x\n",
    "    else:\n",
    "        return -x\n",
    "# 函数调用\n",
    "print(my_abs(-100))"
   ]
  },
  {
   "cell_type": "markdown",
   "metadata": {},
   "source": [
    "2、空函数,用来做占位符，也可以放在其他语句里"
   ]
  },
  {
   "cell_type": "code",
   "execution_count": null,
   "metadata": {},
   "outputs": [],
   "source": [
    "def nop():\n",
    "    pass\n",
    "if age>=18:\n",
    "    pass"
   ]
  },
  {
   "cell_type": "markdown",
   "metadata": {},
   "source": [
    "3、参数检查：如果只允许整数和浮点数类型的参数。\n",
    "数据类型检查可以用内置函数isinstance()实现"
   ]
  },
  {
   "cell_type": "code",
   "execution_count": 66,
   "metadata": {},
   "outputs": [
    {
     "name": "stdout",
     "output_type": "stream",
     "text": [
      "10.0\n"
     ]
    },
    {
     "ename": "TypeError",
     "evalue": "bad operand type",
     "output_type": "error",
     "traceback": [
      "\u001b[1;31m---------------------------------------------------------------------------\u001b[0m",
      "\u001b[1;31mTypeError\u001b[0m                                 Traceback (most recent call last)",
      "\u001b[1;32m<ipython-input-66-f7af0e8a6d2c>\u001b[0m in \u001b[0;36m<module>\u001b[1;34m\u001b[0m\n\u001b[0;32m      7\u001b[0m         \u001b[1;32mreturn\u001b[0m \u001b[1;33m-\u001b[0m\u001b[0mx\u001b[0m\u001b[1;33m\u001b[0m\u001b[0m\n\u001b[0;32m      8\u001b[0m \u001b[0mprint\u001b[0m\u001b[1;33m(\u001b[0m\u001b[0mmy_abs\u001b[0m\u001b[1;33m(\u001b[0m\u001b[1;36m10.0\u001b[0m\u001b[1;33m)\u001b[0m\u001b[1;33m)\u001b[0m\u001b[1;33m\u001b[0m\u001b[0m\n\u001b[1;32m----> 9\u001b[1;33m \u001b[0mprint\u001b[0m\u001b[1;33m(\u001b[0m\u001b[0mmy_abs\u001b[0m\u001b[1;33m(\u001b[0m\u001b[1;34m'1'\u001b[0m\u001b[1;33m)\u001b[0m\u001b[1;33m)\u001b[0m\u001b[1;33m\u001b[0m\u001b[0m\n\u001b[0m",
      "\u001b[1;32m<ipython-input-66-f7af0e8a6d2c>\u001b[0m in \u001b[0;36mmy_abs\u001b[1;34m(x)\u001b[0m\n\u001b[0;32m      1\u001b[0m \u001b[1;32mdef\u001b[0m \u001b[0mmy_abs\u001b[0m\u001b[1;33m(\u001b[0m\u001b[0mx\u001b[0m\u001b[1;33m)\u001b[0m\u001b[1;33m:\u001b[0m\u001b[1;33m\u001b[0m\u001b[0m\n\u001b[0;32m      2\u001b[0m     \u001b[1;32mif\u001b[0m \u001b[1;32mnot\u001b[0m \u001b[0misinstance\u001b[0m\u001b[1;33m(\u001b[0m\u001b[0mx\u001b[0m\u001b[1;33m,\u001b[0m\u001b[1;33m(\u001b[0m\u001b[0mint\u001b[0m\u001b[1;33m,\u001b[0m\u001b[0mfloat\u001b[0m\u001b[1;33m)\u001b[0m\u001b[1;33m)\u001b[0m\u001b[1;33m:\u001b[0m\u001b[1;33m\u001b[0m\u001b[0m\n\u001b[1;32m----> 3\u001b[1;33m         \u001b[1;32mraise\u001b[0m \u001b[0mTypeError\u001b[0m\u001b[1;33m(\u001b[0m\u001b[1;34m'bad operand type'\u001b[0m\u001b[1;33m)\u001b[0m\u001b[1;33m\u001b[0m\u001b[0m\n\u001b[0m\u001b[0;32m      4\u001b[0m     \u001b[1;32mif\u001b[0m \u001b[0mx\u001b[0m\u001b[1;33m>=\u001b[0m\u001b[1;36m0\u001b[0m\u001b[1;33m:\u001b[0m\u001b[1;33m\u001b[0m\u001b[0m\n\u001b[0;32m      5\u001b[0m         \u001b[1;32mreturn\u001b[0m \u001b[0mx\u001b[0m\u001b[1;33m\u001b[0m\u001b[0m\n",
      "\u001b[1;31mTypeError\u001b[0m: bad operand type"
     ]
    }
   ],
   "source": [
    "def my_abs(x):\n",
    "    if not isinstance(x,(int,float)):\n",
    "        raise TypeError('bad operand type')\n",
    "    if x>=0:\n",
    "        return x\n",
    "    else:\n",
    "        return -x\n",
    "print(my_abs(10.0))\n",
    "print(my_abs('1')) #会抛出错误"
   ]
  },
  {
   "cell_type": "markdown",
   "metadata": {},
   "source": [
    "4、返回多个值"
   ]
  },
  {
   "cell_type": "code",
   "execution_count": 68,
   "metadata": {},
   "outputs": [
    {
     "name": "stdout",
     "output_type": "stream",
     "text": [
      "(151.96152422706632, 70.0)\n"
     ]
    }
   ],
   "source": [
    "import math\n",
    "def move(x,y,step,angle=0):\n",
    "    nx=x+step*math.cos(angle)\n",
    "    ny=y-step*math.sin(angle)\n",
    "    return nx,ny #返回值是一个tuple\n",
    "print(move(100,100,60,math.pi/6))"
   ]
  },
  {
   "cell_type": "markdown",
   "metadata": {},
   "source": [
    "5、数据类型转换，python内置的常用函数包括数据类型转换函数，如int()函数\n",
    "函数名其实就是指向一个函数对象的引用，完全可以把函数名赋值给一个变量，相当于给这个函数起了一个别名"
   ]
  },
  {
   "cell_type": "code",
   "execution_count": 69,
   "metadata": {},
   "outputs": [
    {
     "name": "stdout",
     "output_type": "stream",
     "text": [
      "100\n"
     ]
    }
   ],
   "source": [
    "a=abs #abs是内置函数\n",
    "print(a(-100))"
   ]
  },
  {
   "cell_type": "markdown",
   "metadata": {},
   "source": [
    "# 函数参数"
   ]
  },
  {
   "cell_type": "markdown",
   "metadata": {},
   "source": [
    "1、默认参数"
   ]
  },
  {
   "cell_type": "code",
   "execution_count": 72,
   "metadata": {},
   "outputs": [
    {
     "name": "stdout",
     "output_type": "stream",
     "text": [
      "25\n"
     ]
    },
    {
     "ename": "TypeError",
     "evalue": "power() missing 1 required positional argument: 'n'",
     "output_type": "error",
     "traceback": [
      "\u001b[1;31m---------------------------------------------------------------------------\u001b[0m",
      "\u001b[1;31mTypeError\u001b[0m                                 Traceback (most recent call last)",
      "\u001b[1;32m<ipython-input-72-fbcd673542f7>\u001b[0m in \u001b[0;36m<module>\u001b[1;34m\u001b[0m\n\u001b[0;32m      6\u001b[0m     \u001b[1;32mreturn\u001b[0m \u001b[0ms\u001b[0m\u001b[1;33m\u001b[0m\u001b[0m\n\u001b[0;32m      7\u001b[0m \u001b[0mprint\u001b[0m\u001b[1;33m(\u001b[0m\u001b[0mpower\u001b[0m\u001b[1;33m(\u001b[0m\u001b[1;36m5\u001b[0m\u001b[1;33m,\u001b[0m\u001b[1;36m2\u001b[0m\u001b[1;33m)\u001b[0m\u001b[1;33m)\u001b[0m\u001b[1;33m\u001b[0m\u001b[0m\n\u001b[1;32m----> 8\u001b[1;33m \u001b[0mprint\u001b[0m\u001b[1;33m(\u001b[0m\u001b[0mpower\u001b[0m\u001b[1;33m(\u001b[0m\u001b[1;36m5\u001b[0m\u001b[1;33m)\u001b[0m\u001b[1;33m)\u001b[0m\u001b[1;31m#如果少写一个参数必然会报错\u001b[0m\u001b[1;33m\u001b[0m\u001b[0m\n\u001b[0m",
      "\u001b[1;31mTypeError\u001b[0m: power() missing 1 required positional argument: 'n'"
     ]
    }
   ],
   "source": [
    "def power(x,n):\n",
    "    s=1\n",
    "    while n>0:\n",
    "        s*=x\n",
    "        n-=1\n",
    "    return s\n",
    "print(power(5,2))\n",
    "print(power(5))#如果少写一个参数必然会报错"
   ]
  },
  {
   "cell_type": "code",
   "execution_count": 73,
   "metadata": {},
   "outputs": [
    {
     "name": "stdout",
     "output_type": "stream",
     "text": [
      "25\n"
     ]
    }
   ],
   "source": [
    "# 针对上述报错，默认参数很有用，由于经常计算平方，因此，可以把第二个参数n的默认设置为2\n",
    "def power(x,n=2):\n",
    "    s=1\n",
    "    while n>0:\n",
    "        s*=x\n",
    "        n-=1\n",
    "    return s\n",
    "print(power(5))\n",
    "# 设置默认参数 需要注意：\n",
    "# 1）必选参数在前，默认参数在后，否则Python的解释器会报错\n",
    "# 2）当函数有多个参数时，把变化大的放前面，变化小的参数放后面，变化小的参数就可以作为默认参数"
   ]
  },
  {
   "cell_type": "code",
   "execution_count": 77,
   "metadata": {},
   "outputs": [
    {
     "name": "stdout",
     "output_type": "stream",
     "text": [
      "name: Sarah  gender: F \n",
      "age: 6  city: shanghai\n",
      "name: Adam  gender: M \n",
      "age: 6  city: beijing\n"
     ]
    }
   ],
   "source": [
    "def enroll(name,gender,age=6,city='shanghai'):\n",
    "    print('name:',name,' gender:',gender,'\\nage:',age,' city:',city)\n",
    "enroll('Sarah','F')\n",
    "enroll('Adam','M',city='beijing') #只与默不符的学生才需要提供额外的信息"
   ]
  },
  {
   "cell_type": "markdown",
   "metadata": {},
   "source": [
    "2、默认函数存在的坑"
   ]
  },
  {
   "cell_type": "code",
   "execution_count": 82,
   "metadata": {},
   "outputs": [
    {
     "name": "stdout",
     "output_type": "stream",
     "text": [
      "[1, 2, 3, 'END']\n",
      "['a', 'b', 'c', 'END']\n",
      "['END']\n",
      "['END', 'END']\n",
      "['END', 'END', 'END']\n"
     ]
    }
   ],
   "source": [
    "def add_end(L=[]):\n",
    "    L.append('END')\n",
    "    return L\n",
    "print(add_end([1,2,3]))\n",
    "print(add_end(['a','b','c']))\n",
    "print(add_end())#入坑演示\n",
    "print(add_end())\n",
    "print(add_end())"
   ]
  },
  {
   "cell_type": "code",
   "execution_count": null,
   "metadata": {},
   "outputs": [],
   "source": [
    "python函数在定义时，默认参数L的值就被定义好了即[],因为默认参数L也是一个变量，它指向对象[],每次调用该函数，\n",
    "如果改变了L的内容，则下次调用时，默认参数的内容就变了，不再是[]了，\n",
    "因此，默认参数必须指向不变对象"
   ]
  },
  {
   "cell_type": "code",
   "execution_count": 83,
   "metadata": {},
   "outputs": [
    {
     "name": "stdout",
     "output_type": "stream",
     "text": [
      "['END']\n",
      "['END']\n"
     ]
    }
   ],
   "source": [
    "def add_end(L=None):\n",
    "    if L is None:\n",
    "        L=[]\n",
    "    L.append('END')\n",
    "    return L\n",
    "print(add_end())\n",
    "print(add_end())"
   ]
  },
  {
   "cell_type": "markdown",
   "metadata": {},
   "source": [
    "3、可变参数，传入的参数可变，，可以是0、1或任意个，把参数作为一个list或tuple传进来"
   ]
  },
  {
   "cell_type": "code",
   "execution_count": 98,
   "metadata": {},
   "outputs": [
    {
     "name": "stdout",
     "output_type": "stream",
     "text": [
      "14\n",
      "30\n",
      "此时传入空list： 0\n",
      "30\n",
      "此时参数为空： 0\n",
      "若已经存在一个list或tuple，可采用：\n",
      "第一种方法： 14\n",
      "第二种方法： 14\n"
     ]
    }
   ],
   "source": [
    "def calc(numbers):\n",
    "    sum=0\n",
    "    for i in numbers:\n",
    "        sum+=i*i\n",
    "    return sum\n",
    "print(calc([1,2,3]))#调用时先组装出一个list或tuple\n",
    "print(calc((1,2,3,4)))\n",
    "print(\"此时传入空list：\",calc([]))\n",
    "def calc2(*numbers):\n",
    "    sum=0\n",
    "    for i in numbers:\n",
    "        sum+=i*i\n",
    "    return sum\n",
    "print(calc2(1,2,3,4))#利用可变参数，函数的参数可简化\n",
    "print(\"此时参数为空：\",calc2())\n",
    "nums=[1,2,3]\n",
    "print(\"若已经存在一个list或tuple，可采用：\")\n",
    "print(\"第一种方法：\",calc2(nums[0],nums[1],nums[2]))\n",
    "print(\"第二种方法：\",calc2(*nums))\n",
    "# *nums表示把nums这个list的所有元素作为可变参数传进去，且这种写法很有用"
   ]
  },
  {
   "cell_type": "markdown",
   "metadata": {},
   "source": [
    "上述：定义可变参数和定义一个list和tuple参数相比，仅在参数前加了*号，\n",
    "在函数内部，参数numbers接收到的是一个tuple，因此函数代码完全不变，但是调用该参数时，可以传入任意个参数，包括0个"
   ]
  },
  {
   "cell_type": "markdown",
   "metadata": {},
   "source": [
    "4、关键字参数\n",
    "可变参数允许传入0或任意个参数，这些可变参数在函数调用时自动组装为一个tuple，\n",
    "关键字参数允许传入0或任意个含参数名的参数！这些关键字自动组装成一个dict"
   ]
  },
  {
   "cell_type": "code",
   "execution_count": 99,
   "metadata": {},
   "outputs": [
    {
     "name": "stdout",
     "output_type": "stream",
     "text": [
      "name: Michael  gae: 30 other: {}\n",
      "name: Alice  gae: 20 other: {'city': 'shanghai'}\n",
      "name: Berry  gae: 18 other: {'gender': 'F', 'city': 'shanghai'}\n",
      "name: John  gae: 20 other: {'city': 'shanghai', 'job': 'Programmer'}\n"
     ]
    }
   ],
   "source": [
    "def person(name,age,**kw):\n",
    "    print('name:',name,' gae:',age,'other:',kw)\n",
    "person('Michael',30)\n",
    "person('Alice',20,city='shanghai')\n",
    "person('Berry',18,gender='F',city='shanghai')#真让人费解！！\n",
    "extra={'city':'shanghai','job':'Programmer'}\n",
    "person('John',20,**extra)\n",
    "# **extra表示把extra这个dict的所有key-value用关键字参数传入到函数的**kw参数，\n",
    "# kw获得的dict是extra的一份拷贝，对kw的改动不会影响到函数外的extra"
   ]
  },
  {
   "cell_type": "markdown",
   "metadata": {},
   "source": [
    "5、可更改(mutable)与不可更改(immutable)对象\n",
    "在python中，类型属于对象，变量是没有类型的（值得深思！！！）"
   ]
  },
  {
   "cell_type": "code",
   "execution_count": null,
   "metadata": {},
   "outputs": [],
   "source": [
    "a=[1,2,3] #[1,2,3]是list类型，\"Runoob\"是String类型\n",
    "a=\"Runoob\"# 而变量a没有类型，它只是一个对象的引用（指针）,可以指向list对象也可指向String对象"
   ]
  },
  {
   "cell_type": "markdown",
   "metadata": {},
   "source": [
    "在Python中，strings、tuples和numbers是不可更改的对象，而list，dict等则是可修改的对象\n",
    "不可变类型：a=5再赋值a=10，实际是新生成了一个int值对象10，再让a指向它，而5被抛弃，没有改变a指向的指，是重新指向\n",
    "可变类型：la=[1,2,3,4]后再赋值la[2]=30,则是第三个元素值更改，本身la不变\n",
    "python中一切都是对象，严格意义上不能说是值传递还是引用传递，应该说不可变对象和可变对象"
   ]
  },
  {
   "cell_type": "code",
   "execution_count": 104,
   "metadata": {},
   "outputs": [
    {
     "name": "stdout",
     "output_type": "stream",
     "text": [
      "不可变对象实例:b= 1\n",
      "函数内取值： [10, 20, 30, [1, 2, 3]]\n",
      "函数外取值： [10, 20, 30, [1, 2, 3]]\n"
     ]
    }
   ],
   "source": [
    "def unchangeble(a):\n",
    "    a=10\n",
    "b=1\n",
    "unchangeble(b)\n",
    "print(\"不可变对象实例:b=\",b)\n",
    "\n",
    "def changeble(mylist):\n",
    "    mylist.append([1,2,3])\n",
    "    print('函数内取值：',mylist)\n",
    "list=[10,20,30]\n",
    "changeble(list)\n",
    "print(\"函数外取值：\",list)"
   ]
  },
  {
   "cell_type": "code",
   "execution_count": 100,
   "metadata": {},
   "outputs": [
    {
     "name": "stdout",
     "output_type": "stream",
     "text": [
      "<_sre.SRE_Match object; span=(0, 2), match='ww'>\n",
      "None\n",
      "<_sre.SRE_Match object; span=(0, 2), match='ww'>\n",
      "<_sre.SRE_Match object; span=(11, 14), match='com'>\n"
     ]
    }
   ],
   "source": [
    "# 昨天遗漏内容\n",
    "import re\n",
    "print(re.match('ww','www.runoob.com'))\n",
    "print(re.match('com','www.runoob.com'))\n",
    "print(re.search('ww','www.runoob.com'))\n",
    "print(re.search('com','www.runoob.com'))"
   ]
  },
  {
   "cell_type": "markdown",
   "metadata": {},
   "source": [
    "# Day6作业"
   ]
  },
  {
   "cell_type": "code",
   "execution_count": 21,
   "metadata": {},
   "outputs": [
    {
     "name": "stdout",
     "output_type": "stream",
     "text": [
      "自定义函数测试： [2, 3, 1, 8]\n",
      "库函数： [8, 6, 5, 4]\n"
     ]
    }
   ],
   "source": [
    "# 1)实现random.sample()方法\n",
    "import random\n",
    "# 函数定义\n",
    "def mySample(L,n):\n",
    "    if len(L)<n:\n",
    "        return\n",
    "    res=[]\n",
    "    while len(res)<n:\n",
    "        i=random.randint(0,len(L)-1)\n",
    "        if L[i] not in res:\n",
    "            res.append(L[i])\n",
    "    return res\n",
    "# 函数调用\n",
    "L1=[1,2,3,4,5,6,7,8,8]\n",
    "print(\"自定义函数测试：\",mySample(L1,4))\n",
    "print(\"库函数：\",random.sample(L1,4))  #库函数返回的值是有重复的"
   ]
  },
  {
   "cell_type": "code",
   "execution_count": 25,
   "metadata": {},
   "outputs": [
    {
     "name": "stdout",
     "output_type": "stream",
     "text": [
      "9\n"
     ]
    }
   ],
   "source": [
    "# 2）实现Max方法 传进来一个序列，返回最大值\n",
    "def myMax(nums):\n",
    "    res=nums[0]\n",
    "    for i in nums:\n",
    "        if res<i:\n",
    "            res=i\n",
    "    return res\n",
    "print(myMax([1,2,3,9,0]))"
   ]
  },
  {
   "cell_type": "code",
   "execution_count": 31,
   "metadata": {},
   "outputs": [
    {
     "name": "stdout",
     "output_type": "stream",
     "text": [
      "False\n",
      "False\n",
      "True\n"
     ]
    }
   ],
   "source": [
    "# 3)判断两个字符串是否相等\n",
    "def strCmp(str1,str2):\n",
    "    if len(str1)!=len(str2):\n",
    "        return False\n",
    "    for i in range(0,len(str1)):\n",
    "        if str1[i]!=str2[i]:\n",
    "            return False\n",
    "    return True\n",
    "print(strCmp('123','1234'))\n",
    "print(strCmp('123','124'))\n",
    "print(strCmp('123','123'))"
   ]
  }
 ],
 "metadata": {
  "kernelspec": {
   "display_name": "Python 3",
   "language": "python",
   "name": "python3"
  },
  "language_info": {
   "codemirror_mode": {
    "name": "ipython",
    "version": 3
   },
   "file_extension": ".py",
   "mimetype": "text/x-python",
   "name": "python",
   "nbconvert_exporter": "python",
   "pygments_lexer": "ipython3",
   "version": "3.6.5"
  }
 },
 "nbformat": 4,
 "nbformat_minor": 2
}
